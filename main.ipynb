{
 "cells": [
  {
   "cell_type": "code",
   "execution_count": 12,
   "metadata": {},
   "outputs": [],
   "source": [
    "import importlib\n",
    "import os\n",
    "from pathlib import Path\n",
    "\n",
    "import numpy as np\n",
    "import pandas as pd\n",
    "\n",
    "import config\n",
    "import module\n",
    "\n",
    "try:\n",
    "    importlib.reload(config)  # reload module\n",
    "except NameError:\n",
    "    pass\n",
    "try:\n",
    "    importlib.reload(module)  # reload module\n",
    "except NameError:\n",
    "    pass"
   ]
  },
  {
   "cell_type": "code",
   "execution_count": 13,
   "metadata": {},
   "outputs": [
    {
     "name": "stdout",
     "output_type": "stream",
     "text": [
      "WARNING *** file size (680547) not 512 + multiple of sector size (512)\n",
      "WARNING *** file size (705123) not 512 + multiple of sector size (512)\n",
      "WARNING *** file size (2572899) not 512 + multiple of sector size (512)\n",
      "WARNING *** file size (705123) not 512 + multiple of sector size (512)\n",
      "WARNING *** file size (2679395) not 512 + multiple of sector size (512)\n",
      "WARNING *** file size (1491555) not 512 + multiple of sector size (512)\n",
      "WARNING *** file size (2572899) not 512 + multiple of sector size (512)\n",
      "WARNING *** file size (2695779) not 512 + multiple of sector size (512)\n",
      "WARNING *** file size (2679395) not 512 + multiple of sector size (512)\n",
      "WARNING *** file size (680547) not 512 + multiple of sector size (512)\n"
     ]
    }
   ],
   "source": [
    "# load df\n",
    "folder_path = Path(\"input\", config.month)\n",
    "\n",
    "excel_files = [f for f in os.listdir(folder_path) if f.endswith('.xls')]\n",
    "\n",
    "dfs = []\n",
    "\n",
    "for file in excel_files:\n",
    "    file_path = os.path.join(folder_path, file)\n",
    "    df = pd.read_excel(file_path, skiprows=6)\n",
    "    dfs.append(df)\n",
    "\n",
    "df_ori = pd.concat(dfs, ignore_index=True)"
   ]
  },
  {
   "cell_type": "markdown",
   "metadata": {},
   "source": [
    "# Clean DF"
   ]
  },
  {
   "cell_type": "code",
   "execution_count": 14,
   "metadata": {},
   "outputs": [
    {
     "data": {
      "text/html": [
       "<div>\n",
       "<style scoped>\n",
       "    .dataframe tbody tr th:only-of-type {\n",
       "        vertical-align: middle;\n",
       "    }\n",
       "\n",
       "    .dataframe tbody tr th {\n",
       "        vertical-align: top;\n",
       "    }\n",
       "\n",
       "    .dataframe thead th {\n",
       "        text-align: right;\n",
       "    }\n",
       "</style>\n",
       "<table border=\"1\" class=\"dataframe\">\n",
       "  <thead>\n",
       "    <tr style=\"text-align: right;\">\n",
       "      <th></th>\n",
       "      <th>student_code</th>\n",
       "      <th>date_of_birth</th>\n",
       "      <th>mobile</th>\n",
       "      <th>email</th>\n",
       "      <th>service_type</th>\n",
       "      <th>consultant</th>\n",
       "      <th>start_date</th>\n",
       "      <th>end_date</th>\n",
       "      <th>start_level</th>\n",
       "      <th>current_level</th>\n",
       "      <th>contract_status</th>\n",
       "      <th>student_membership</th>\n",
       "    </tr>\n",
       "  </thead>\n",
       "  <tbody>\n",
       "    <tr>\n",
       "      <th>0</th>\n",
       "      <td>MARIO (GO) ANDRI - 4046</td>\n",
       "      <td>1983-03-25 07:00:00</td>\n",
       "      <td>6281389227775</td>\n",
       "      <td>andri.digital@yahoo.com</td>\n",
       "      <td>Standard</td>\n",
       "      <td>Fajria Sahista Achadiarrohma</td>\n",
       "      <td>2023-11-08</td>\n",
       "      <td>2025-02-07 23:59:59</td>\n",
       "      <td>3.0</td>\n",
       "      <td>3.0</td>\n",
       "      <td>Active-Valid</td>\n",
       "      <td>GO</td>\n",
       "    </tr>\n",
       "    <tr>\n",
       "      <th>1</th>\n",
       "      <td>MUTIA (GO) SEIRA - 3319</td>\n",
       "      <td>1994-03-23 07:00:00</td>\n",
       "      <td>6281947687745</td>\n",
       "      <td>racemonk9@gmail.com</td>\n",
       "      <td>Standard</td>\n",
       "      <td>Danea Sindi Dini</td>\n",
       "      <td>2023-04-10</td>\n",
       "      <td>2024-10-09 23:59:59</td>\n",
       "      <td>2.0</td>\n",
       "      <td>2.0</td>\n",
       "      <td>InActive-Valid</td>\n",
       "      <td>GO</td>\n",
       "    </tr>\n",
       "    <tr>\n",
       "      <th>2</th>\n",
       "      <td>YANUARI (GO CPT CTI GROUP) DANIEL EKO - 3792</td>\n",
       "      <td>2000-01-17 07:00:00</td>\n",
       "      <td>6282335725604</td>\n",
       "      <td>daniel.yanuari@helios.id</td>\n",
       "      <td>Standard</td>\n",
       "      <td>Amalia, S.T Rina</td>\n",
       "      <td>2023-08-25</td>\n",
       "      <td>2024-02-24 23:59:59</td>\n",
       "      <td>9.0</td>\n",
       "      <td>9.0</td>\n",
       "      <td>Active-Valid</td>\n",
       "      <td>GO</td>\n",
       "    </tr>\n",
       "  </tbody>\n",
       "</table>\n",
       "</div>"
      ],
      "text/plain": [
       "                                   student_code       date_of_birth  \\\n",
       "0                       MARIO (GO) ANDRI - 4046 1983-03-25 07:00:00   \n",
       "1                       MUTIA (GO) SEIRA - 3319 1994-03-23 07:00:00   \n",
       "2  YANUARI (GO CPT CTI GROUP) DANIEL EKO - 3792 2000-01-17 07:00:00   \n",
       "\n",
       "          mobile                     email service_type  \\\n",
       "0  6281389227775   andri.digital@yahoo.com     Standard   \n",
       "1  6281947687745       racemonk9@gmail.com     Standard   \n",
       "2  6282335725604  daniel.yanuari@helios.id     Standard   \n",
       "\n",
       "                     consultant start_date            end_date  start_level  \\\n",
       "0  Fajria Sahista Achadiarrohma 2023-11-08 2025-02-07 23:59:59          3.0   \n",
       "1              Danea Sindi Dini 2023-04-10 2024-10-09 23:59:59          2.0   \n",
       "2              Amalia, S.T Rina 2023-08-25 2024-02-24 23:59:59          9.0   \n",
       "\n",
       "   current_level contract_status student_membership  \n",
       "0            3.0    Active-Valid                 GO  \n",
       "1            2.0  InActive-Valid                 GO  \n",
       "2            9.0    Active-Valid                 GO  "
      ]
     },
     "execution_count": 14,
     "metadata": {},
     "output_type": "execute_result"
    }
   ],
   "source": [
    "df_clean = (df_ori\n",
    "    .dropna(how=\"all\", axis=\"columns\")\n",
    "    .dropna(how=\"all\", axis=\"rows\")\n",
    "    .rename(columns=lambda c: c.lower().replace(\" \", \"_\"))  # replace space with _\n",
    "    .assign(\n",
    "        student_code=lambda df_: (\n",
    "            df_[\"last_name\"].str.upper()\n",
    "            + \" \"\n",
    "            + df_[\"first_name\"].str.upper()\n",
    "            + \" - \"\n",
    "            + df_[\"student_code\"].astype(\"str\")\n",
    "        ).str.strip(),\n",
    "        student_membership=lambda df_: module.create_student_membership(df_),\n",
    "        start_level=lambda df_: df_[\"start_level\"].astype(float),\n",
    "        current_level=lambda df_: df_[\"current_level\"].astype(float),\n",
    "        date_of_birth=lambda df_: pd.to_datetime(df_[\"date_of_birth\"]),\n",
    "        start_date=lambda df_: pd.to_datetime(df_[\"start_date\"]),\n",
    "        end_date=lambda df_: pd.to_datetime(df_[\"end_date\"]),\n",
    "        email=lambda df_: df_[\"email\"].str.lower().str.strip(),\n",
    "        mobile=lambda df_: (\n",
    "            df_[\"mobile\"]\n",
    "            .astype(str)\n",
    "            .str.replace(\"-\", \"\", regex=False)\n",
    "            .str.replace(\"+\", \"\", regex=False)\n",
    "            .str.strip()\n",
    "        ),\n",
    "    )\n",
    "    # ! drop ST\n",
    "    .loc[\n",
    "        lambda df_: ~(\n",
    "            df_[\"student_code\"].str.contains(\"STREET TALK|STREETTALK\", na=False)\n",
    "        )\n",
    "    ]\n",
    "    # ! drop duplicated member based on student code and start date\n",
    "    .drop_duplicates(subset=[\"student_code\", \"start_date\"], keep=\"first\")\n",
    "    # ! drop unnecessary cols\n",
    "    .drop(\n",
    "        columns=[\n",
    "            \"gender\",\n",
    "            \"home\",\n",
    "            \"work\",\n",
    "            \"end_level\",\n",
    "            \"on_track\",\n",
    "            \"course_status\",\n",
    "            \"personal_tutor\",\n",
    "            \"first_name\",\n",
    "            \"last_name\",\n",
    "            \"center_name\",\n",
    "        ]\n",
    "    )\n",
    ")\n",
    "df_clean.head(3)"
   ]
  },
  {
   "cell_type": "markdown",
   "metadata": {},
   "source": [
    "# Assertion"
   ]
  },
  {
   "cell_type": "code",
   "execution_count": 15,
   "metadata": {},
   "outputs": [],
   "source": [
    "assert sorted(df_clean[\"student_membership\"].unique()) == [\"Deluxe\", \"GO\", \"VIP\"]"
   ]
  },
  {
   "cell_type": "markdown",
   "metadata": {},
   "source": [
    "# Save DF"
   ]
  },
  {
   "cell_type": "code",
   "execution_count": 17,
   "metadata": {},
   "outputs": [
    {
     "name": "stdout",
     "output_type": "stream",
     "text": [
      "File saved.\n"
     ]
    }
   ],
   "source": [
    "filename = (\"coco member.xlsx\").replace(\" \", \"_\")\n",
    "output_path = Path(\"output\", folder_path.stem)\n",
    "\n",
    "if not os.path.exists(full_filepath := output_path / filename):\n",
    "    try:\n",
    "        os.mkdir(output_path)\n",
    "    except FileExistsError:\n",
    "        pass\n",
    "    df_clean.to_excel(full_filepath, engine=\"xlsxwriter\", index=False)\n",
    "    print(\"File saved.\")\n",
    "else:\n",
    "    print(\"File already exist.\")"
   ]
  }
 ],
 "metadata": {
  "kernelspec": {
   "display_name": "data-science",
   "language": "python",
   "name": "python3"
  },
  "language_info": {
   "codemirror_mode": {
    "name": "ipython",
    "version": 3
   },
   "file_extension": ".py",
   "mimetype": "text/x-python",
   "name": "python",
   "nbconvert_exporter": "python",
   "pygments_lexer": "ipython3",
   "version": "3.11.5"
  }
 },
 "nbformat": 4,
 "nbformat_minor": 2
}
