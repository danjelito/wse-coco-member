{
 "cells": [
  {
   "cell_type": "code",
   "execution_count": 298,
   "metadata": {},
   "outputs": [],
   "source": [
    "import importlib\n",
    "import os\n",
    "from pathlib import Path\n",
    "\n",
    "import pandas as pd\n",
    "\n",
    "import config\n",
    "import module\n",
    "import tests\n",
    "\n",
    "try:\n",
    "    importlib.reload(config)  # reload module\n",
    "except NameError:\n",
    "    pass\n",
    "try:\n",
    "    importlib.reload(module)  # reload module\n",
    "except NameError:\n",
    "    pass"
   ]
  },
  {
   "cell_type": "code",
   "execution_count": 237,
   "metadata": {},
   "outputs": [
    {
     "name": "stdout",
     "output_type": "stream",
     "text": [
      "WARNING *** file size (2679395) not 512 + multiple of sector size (512)\n",
      "WARNING *** file size (680547) not 512 + multiple of sector size (512)\n",
      "WARNING *** file size (2572899) not 512 + multiple of sector size (512)\n",
      "WARNING *** file size (2679395) not 512 + multiple of sector size (512)\n",
      "WARNING *** file size (705123) not 512 + multiple of sector size (512)\n",
      "WARNING *** file size (2572899) not 512 + multiple of sector size (512)\n",
      "WARNING *** file size (680547) not 512 + multiple of sector size (512)\n",
      "WARNING *** file size (1491555) not 512 + multiple of sector size (512)\n",
      "WARNING *** file size (705123) not 512 + multiple of sector size (512)\n",
      "WARNING *** file size (2695779) not 512 + multiple of sector size (512)\n"
     ]
    }
   ],
   "source": [
    "# load df\n",
    "folder_path = Path(\"input\", config.month)\n",
    "\n",
    "excel_files = [f for f in os.listdir(folder_path) if f.endswith('.xls')]\n",
    "\n",
    "dfs = []\n",
    "\n",
    "for file in excel_files:\n",
    "    file_path = os.path.join(folder_path, file)\n",
    "    df = pd.read_excel(file_path, skiprows=6)\n",
    "    dfs.append(df)\n",
    "\n",
    "df_ori = pd.concat(dfs, ignore_index=True)"
   ]
  },
  {
   "cell_type": "markdown",
   "metadata": {},
   "source": [
    "# Clean DF"
   ]
  },
  {
   "cell_type": "code",
   "execution_count": 241,
   "metadata": {},
   "outputs": [
    {
     "name": "stderr",
     "output_type": "stream",
     "text": [
      "/home/anj/Documents/wse-local/2. Experience/data - coco member/module.py:244: UserWarning: This pattern is interpreted as a regular expression, and has match groups. To actually get the groups, use str.extract.\n",
      "  \"Online Center\",\n",
      "/home/anj/Documents/wse-local/2. Experience/data - coco member/module.py:247: UserWarning: This pattern is interpreted as a regular expression, and has match groups. To actually get the groups, use str.extract.\n",
      "  (\n"
     ]
    }
   ],
   "source": [
    "df_clean = (df_ori\n",
    "    .dropna(how=\"all\", axis=\"columns\")\n",
    "    .dropna(how=\"all\", axis=\"rows\")\n",
    "    .rename(columns=lambda c: c.lower().replace(\" \", \"_\"))  # replace space with _\n",
    "    .assign(\n",
    "        student_code=lambda df_: module.create_student_code(df_),\n",
    "        student_membership=lambda df_: module.create_student_membership(df_),\n",
    "        start_level=lambda df_: df_[\"start_level\"].astype(float),\n",
    "        current_level=lambda df_: df_[\"current_level\"].astype(float),\n",
    "        date_of_birth=lambda df_: pd.to_datetime(df_[\"date_of_birth\"]),\n",
    "        start_date=lambda df_: pd.to_datetime(df_[\"start_date\"]),\n",
    "        end_date=lambda df_: pd.to_datetime(df_[\"end_date\"]),\n",
    "        email=lambda df_: df_[\"email\"].str.lower().str.strip(),\n",
    "        mobile=lambda df_: module.clean_phone_number(df_[\"mobile\"]),\n",
    "        consultant = lambda df_: df_[\"consultant\"].str.upper(),\n",
    "        is_cpt = lambda df_: module.get_cpt(df_), \n",
    "        student_center = lambda df_: module.get_student_center(df_),\n",
    "        student_area = lambda df_: module.get_area(df_),\n",
    "    )\n",
    "    .assign(\n",
    "        student_center = lambda df_: df_[\"student_center\"].fillna(\"NONE\"),\n",
    "        student_area = lambda df_: df_[\"student_area\"].fillna(\"NONE\"),\n",
    "    )\n",
    "    # ! drop ST\n",
    "    .loc[\n",
    "        lambda df_: ~(\n",
    "            df_[\"student_code\"].str.contains(\"STREET TALK|STREETTALK\", na=False)\n",
    "        )\n",
    "    ]\n",
    "    # ! drop duplicated member based on student code and start date\n",
    "    .drop_duplicates(subset=[\"student_code\", \"start_date\"], keep=\"first\")\n",
    "    # ! drop unnecessary cols\n",
    "    .drop(\n",
    "        columns=[\n",
    "            \"gender\", \"home\", \"work\", \"end_level\", \"on_track\", \"course_status\", \n",
    "            \"personal_tutor\", \"first_name\", \"last_name\", \"center_name\",\n",
    "        ]\n",
    "    )\n",
    ")"
   ]
  },
  {
   "cell_type": "markdown",
   "metadata": {},
   "source": [
    "# Assertion"
   ]
  },
  {
   "cell_type": "code",
   "execution_count": 299,
   "metadata": {},
   "outputs": [],
   "source": [
    "tests.test_all_memberships_are_filled(df_clean)\n",
    "tests.test_all_centers_are_filled(df_clean)\n",
    "tests.test_all_areas_are_filled(df_clean)\n",
    "tests.test_cpt_members_in_cpt_area(df_clean)\n",
    "tests.test_noncpt_members_in_noncpt_area(df_clean)"
   ]
  },
  {
   "cell_type": "markdown",
   "metadata": {},
   "source": [
    "# Save DF"
   ]
  },
  {
   "cell_type": "code",
   "execution_count": 5,
   "metadata": {},
   "outputs": [
    {
     "name": "stdout",
     "output_type": "stream",
     "text": [
      "File already exist.\n"
     ]
    }
   ],
   "source": [
    "filename = (\"coco member.xlsx\").replace(\" \", \"_\")\n",
    "output_path = Path(\"output\", folder_path.stem)\n",
    "\n",
    "if not os.path.exists(full_filepath := output_path / filename):\n",
    "    try:\n",
    "        os.mkdir(output_path)\n",
    "    except FileExistsError:\n",
    "        pass\n",
    "    df_clean.to_excel(full_filepath, engine=\"xlsxwriter\", index=False)\n",
    "    print(\"File saved.\")\n",
    "else:\n",
    "    print(\"File already exist.\")"
   ]
  },
  {
   "cell_type": "markdown",
   "metadata": {},
   "source": [
    "# Experiment"
   ]
  },
  {
   "cell_type": "code",
   "execution_count": 6,
   "metadata": {},
   "outputs": [],
   "source": [
    "# jkt_1 = [\"PP\", \"SDC\", \"KG\"]\n",
    "# jkt_2 = [\"GC\", \"LW\", \"BSD\", \"TBS\"]\n",
    "# jkt_3 = [\"KK\", \"CBB\", \"SMB\"]\n",
    "# bdg = [\"DG\"]\n",
    "# sby = [\"PKW\"]\n",
    "# centers = jkt_1 + jkt_2 + jkt_3 + bdg + sby\n",
    "# pattern = f'({\"|\".join(centers)})'\n",
    "\n",
    "# (df_ori\n",
    "#     .loc[~(df_ori[\"Last Name\"].str.contains(pattern, regex=True, na=False))]\n",
    "# )"
   ]
  },
  {
   "cell_type": "code",
   "execution_count": 7,
   "metadata": {},
   "outputs": [],
   "source": [
    "# (df_clean\n",
    "#     .loc[\n",
    "#         (df_clean[\"student_center\"].isna()) | (df_clean[\"student_area\"].isna()) | (df_clean[\"student_membership\"].isna()) |\n",
    "#         (df_clean[\"student_center\"] == \"Not Specified\") | (df_clean[\"student_area\"] == \"Not Specified\") | (df_clean[\"student_membership\"] == \"Not Specified\")\n",
    "#     ]\n",
    "#     .sample(10)\n",
    "# )"
   ]
  },
  {
   "cell_type": "code",
   "execution_count": 8,
   "metadata": {},
   "outputs": [],
   "source": [
    "# (df_clean\n",
    "#     .loc[df_clean[\"student_center\"].isna(), [\"student_code\", \"consultant\"]]\n",
    "# )"
   ]
  },
  {
   "cell_type": "code",
   "execution_count": 9,
   "metadata": {},
   "outputs": [],
   "source": [
    "# jkt_1 = [\"PP\", \"SDC\", \"KG\"]\n",
    "# jkt_2 = [\"GC\", \"LW\", \"BSD\", \"TBS\"]\n",
    "# jkt_3 = [\"KK\", \"CBB\", \"SMB\"]\n",
    "# bdg = [\"DG\"]\n",
    "# sby = [\"PKW\"]\n",
    "# centers = jkt_1 + jkt_2 + jkt_3 + bdg + sby\n",
    "# pattern = f'(\\W{\"|\".join(centers)}\\W)'\n",
    "\n",
    "# (df_ori\n",
    "#     .loc[df_ori[\"Last Name\"].str.upper().str.contains(pattern, regex=True, na=False)]\n",
    "#     .assign(\n",
    "#         center = lambda df_: ( df_[\"Last Name\"]\n",
    "#             .str.extract(\"(\\(.+\\))\", expand=False)\n",
    "#             .str.replace(\"(\", \"\", regex=False)\n",
    "#             .str.replace(\")\", \"\", regex=False)\n",
    "#             # .str.extract(pattern, expand=False)\n",
    "#         )\n",
    "#     )\n",
    "#     .loc[lambda df_: df_[\"center\"].isna()]\n",
    "# )"
   ]
  },
  {
   "cell_type": "code",
   "execution_count": 10,
   "metadata": {},
   "outputs": [],
   "source": [
    "# df_clean.loc[df_clean[\"student_area\"].isna()]"
   ]
  }
 ],
 "metadata": {
  "kernelspec": {
   "display_name": "data-science",
   "language": "python",
   "name": "python3"
  },
  "language_info": {
   "codemirror_mode": {
    "name": "ipython",
    "version": 3
   },
   "file_extension": ".py",
   "mimetype": "text/x-python",
   "name": "python",
   "nbconvert_exporter": "python",
   "pygments_lexer": "ipython3",
   "version": "3.11.5"
  }
 },
 "nbformat": 4,
 "nbformat_minor": 2
}
