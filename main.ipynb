{
 "cells": [
  {
   "cell_type": "code",
   "execution_count": 29,
   "metadata": {},
   "outputs": [],
   "source": [
    "import importlib\n",
    "import os\n",
    "from pathlib import Path\n",
    "\n",
    "import numpy as np\n",
    "import pandas as pd\n",
    "\n",
    "import config\n",
    "import module\n",
    "\n",
    "try:\n",
    "    importlib.reload(config)  # reload module\n",
    "except NameError:\n",
    "    pass\n",
    "try:\n",
    "    importlib.reload(module)  # reload module\n",
    "except NameError:\n",
    "    pass"
   ]
  },
  {
   "cell_type": "code",
   "execution_count": 30,
   "metadata": {},
   "outputs": [
    {
     "name": "stdout",
     "output_type": "stream",
     "text": [
      "WARNING *** file size (2679395) not 512 + multiple of sector size (512)\n",
      "WARNING *** file size (680547) not 512 + multiple of sector size (512)\n",
      "WARNING *** file size (2572899) not 512 + multiple of sector size (512)\n",
      "WARNING *** file size (2679395) not 512 + multiple of sector size (512)\n",
      "WARNING *** file size (705123) not 512 + multiple of sector size (512)\n",
      "WARNING *** file size (2572899) not 512 + multiple of sector size (512)\n",
      "WARNING *** file size (680547) not 512 + multiple of sector size (512)\n",
      "WARNING *** file size (1491555) not 512 + multiple of sector size (512)\n",
      "WARNING *** file size (705123) not 512 + multiple of sector size (512)\n",
      "WARNING *** file size (2695779) not 512 + multiple of sector size (512)\n"
     ]
    }
   ],
   "source": [
    "# load df\n",
    "folder_path = Path(\"input\", config.month)\n",
    "\n",
    "excel_files = [f for f in os.listdir(folder_path) if f.endswith('.xls')]\n",
    "\n",
    "dfs = []\n",
    "\n",
    "for file in excel_files:\n",
    "    file_path = os.path.join(folder_path, file)\n",
    "    df = pd.read_excel(file_path, skiprows=6)\n",
    "    dfs.append(df)\n",
    "\n",
    "df_ori = pd.concat(dfs, ignore_index=True)"
   ]
  },
  {
   "cell_type": "markdown",
   "metadata": {},
   "source": [
    "# Clean DF"
   ]
  },
  {
   "cell_type": "code",
   "execution_count": 45,
   "metadata": {},
   "outputs": [],
   "source": [
    "df_clean = (df_ori\n",
    "    .dropna(how=\"all\", axis=\"columns\")\n",
    "    .dropna(how=\"all\", axis=\"rows\")\n",
    "    .rename(columns=lambda c: c.lower().replace(\" \", \"_\"))  # replace space with _\n",
    "    .assign(\n",
    "        student_code=lambda df_: (\n",
    "            df_[\"last_name\"].str.upper()\n",
    "            + \" \"\n",
    "            + df_[\"first_name\"].str.upper()\n",
    "            + \" - \"\n",
    "            + df_[\"student_code\"].astype(\"str\")\n",
    "        ).str.strip(),\n",
    "        student_membership=lambda df_: module.create_student_membership(df_),\n",
    "        start_level=lambda df_: df_[\"start_level\"].astype(float),\n",
    "        current_level=lambda df_: df_[\"current_level\"].astype(float),\n",
    "        date_of_birth=lambda df_: pd.to_datetime(df_[\"date_of_birth\"]),\n",
    "        start_date=lambda df_: pd.to_datetime(df_[\"start_date\"]),\n",
    "        end_date=lambda df_: pd.to_datetime(df_[\"end_date\"]),\n",
    "        email=lambda df_: df_[\"email\"].str.lower().str.strip(),\n",
    "        mobile=lambda df_: (\n",
    "            df_[\"mobile\"]\n",
    "            .astype(str)\n",
    "            .str.replace(\"-\", \"\", regex=False)\n",
    "            .str.replace(\"+\", \"\", regex=False)\n",
    "            .str.strip()\n",
    "        ),\n",
    "        consultant = lambda df_: df_[\"consultant\"].str.upper(),\n",
    "        is_cpt = lambda df_: module.get_cpt(df_)\n",
    "    )\n",
    "    # ! drop ST\n",
    "    .loc[\n",
    "        lambda df_: ~(\n",
    "            df_[\"student_code\"].str.contains(\"STREET TALK|STREETTALK\", na=False)\n",
    "        )\n",
    "    ]\n",
    "    # ! drop duplicated member based on student code and start date\n",
    "    .drop_duplicates(subset=[\"student_code\", \"start_date\"], keep=\"first\")\n",
    "    # ! drop unnecessary cols\n",
    "    .drop(\n",
    "        columns=[\n",
    "            \"gender\",\n",
    "            \"home\",\n",
    "            \"work\",\n",
    "            \"end_level\",\n",
    "            \"on_track\",\n",
    "            \"course_status\",\n",
    "            \"personal_tutor\",\n",
    "            \"first_name\",\n",
    "            \"last_name\",\n",
    "            \"center_name\",\n",
    "        ]\n",
    "    )\n",
    ")"
   ]
  },
  {
   "cell_type": "code",
   "execution_count": 55,
   "metadata": {},
   "outputs": [
    {
     "data": {
      "text/html": [
       "<div>\n",
       "<style scoped>\n",
       "    .dataframe tbody tr th:only-of-type {\n",
       "        vertical-align: middle;\n",
       "    }\n",
       "\n",
       "    .dataframe tbody tr th {\n",
       "        vertical-align: top;\n",
       "    }\n",
       "\n",
       "    .dataframe thead th {\n",
       "        text-align: right;\n",
       "    }\n",
       "</style>\n",
       "<table border=\"1\" class=\"dataframe\">\n",
       "  <thead>\n",
       "    <tr style=\"text-align: right;\">\n",
       "      <th></th>\n",
       "      <th>student_code</th>\n",
       "      <th>consultant</th>\n",
       "    </tr>\n",
       "  </thead>\n",
       "  <tbody>\n",
       "    <tr>\n",
       "      <th>25241</th>\n",
       "      <td>SITUMORANG (GO CPT SILOAM HOSPITAL) RATNA WATI...</td>\n",
       "      <td>AMALIA, S.T RINA</td>\n",
       "    </tr>\n",
       "    <tr>\n",
       "      <th>24868</th>\n",
       "      <td>HIWANG N P A (GO CPT TIKET.COM) RIES - 2752</td>\n",
       "      <td>TEDJOKOESOEMO PUTRA PRATAMA</td>\n",
       "    </tr>\n",
       "    <tr>\n",
       "      <th>25143</th>\n",
       "      <td>WIBOWO (GO CPT TIKET.COM) SENTOT GALIH - 2765</td>\n",
       "      <td>TEDJOKOESOEMO PUTRA PRATAMA</td>\n",
       "    </tr>\n",
       "    <tr>\n",
       "      <th>24828</th>\n",
       "      <td>NOVITASARI (GO CPT BRI AGRI) DIAN - 3507</td>\n",
       "      <td>PUTRI HANDAYANI KUN ANDIKA</td>\n",
       "    </tr>\n",
       "    <tr>\n",
       "      <th>25224</th>\n",
       "      <td>FARIDA (GO CPT SILOAM HOSPITAL) NADA DINAR - 3630</td>\n",
       "      <td>AMALIA, S.T RINA</td>\n",
       "    </tr>\n",
       "    <tr>\n",
       "      <th>25025</th>\n",
       "      <td>EZRYANA (GO CPT SILOAMHOSPITAL) PRIMA - 1983</td>\n",
       "      <td>TEDJOKOESOEMO PUTRA PRATAMA</td>\n",
       "    </tr>\n",
       "    <tr>\n",
       "      <th>26358</th>\n",
       "      <td>DETHAN (GO CPT BTPN) JAYANTI - 2943</td>\n",
       "      <td>PUTRI HANDAYANI KUN ANDIKA</td>\n",
       "    </tr>\n",
       "    <tr>\n",
       "      <th>25309</th>\n",
       "      <td>HANDAYANI (GO CPT TIKET.COM) RULY SULIS - 3133</td>\n",
       "      <td>AIDIL MUNAWAR</td>\n",
       "    </tr>\n",
       "    <tr>\n",
       "      <th>24952</th>\n",
       "      <td>PUSPITHA (GO CPT BRI AGRI) ENDANG RESTIANA - 3505</td>\n",
       "      <td>PUTRI HANDAYANI KUN ANDIKA</td>\n",
       "    </tr>\n",
       "    <tr>\n",
       "      <th>24951</th>\n",
       "      <td>PUSPITHA (GO CPT BRI AGRI) ENDANG RESTIANA - 3505</td>\n",
       "      <td>PUTRI HANDAYANI KUN ANDIKA</td>\n",
       "    </tr>\n",
       "  </tbody>\n",
       "</table>\n",
       "</div>"
      ],
      "text/plain": [
       "                                            student_code  \\\n",
       "25241  SITUMORANG (GO CPT SILOAM HOSPITAL) RATNA WATI...   \n",
       "24868        HIWANG N P A (GO CPT TIKET.COM) RIES - 2752   \n",
       "25143      WIBOWO (GO CPT TIKET.COM) SENTOT GALIH - 2765   \n",
       "24828           NOVITASARI (GO CPT BRI AGRI) DIAN - 3507   \n",
       "25224  FARIDA (GO CPT SILOAM HOSPITAL) NADA DINAR - 3630   \n",
       "25025       EZRYANA (GO CPT SILOAMHOSPITAL) PRIMA - 1983   \n",
       "26358                DETHAN (GO CPT BTPN) JAYANTI - 2943   \n",
       "25309     HANDAYANI (GO CPT TIKET.COM) RULY SULIS - 3133   \n",
       "24952  PUSPITHA (GO CPT BRI AGRI) ENDANG RESTIANA - 3505   \n",
       "24951  PUSPITHA (GO CPT BRI AGRI) ENDANG RESTIANA - 3505   \n",
       "\n",
       "                        consultant  \n",
       "25241             AMALIA, S.T RINA  \n",
       "24868  TEDJOKOESOEMO PUTRA PRATAMA  \n",
       "25143  TEDJOKOESOEMO PUTRA PRATAMA  \n",
       "24828   PUTRI HANDAYANI KUN ANDIKA  \n",
       "25224             AMALIA, S.T RINA  \n",
       "25025  TEDJOKOESOEMO PUTRA PRATAMA  \n",
       "26358   PUTRI HANDAYANI KUN ANDIKA  \n",
       "25309                AIDIL MUNAWAR  \n",
       "24952   PUTRI HANDAYANI KUN ANDIKA  \n",
       "24951   PUTRI HANDAYANI KUN ANDIKA  "
      ]
     },
     "execution_count": 55,
     "metadata": {},
     "output_type": "execute_result"
    }
   ],
   "source": [
    "(df_clean\n",
    "    # .assign(\n",
    "    #     is_cpt = lambda df_: module.get_cpt(df_)\n",
    "    # )\n",
    "    # .loc[lambda df_: df_[\"is_cpt\"] == True, [\"student_code\", \"consultant\"]]\n",
    "    # .sample(10)\n",
    ")"
   ]
  },
  {
   "cell_type": "markdown",
   "metadata": {},
   "source": [
    "# Assertion"
   ]
  },
  {
   "cell_type": "code",
   "execution_count": 4,
   "metadata": {},
   "outputs": [],
   "source": [
    "assert sorted(df_clean[\"student_membership\"].unique()) == [\"Deluxe\", \"GO\", \"VIP\"]"
   ]
  },
  {
   "cell_type": "markdown",
   "metadata": {},
   "source": [
    "# Save DF"
   ]
  },
  {
   "cell_type": "code",
   "execution_count": 5,
   "metadata": {},
   "outputs": [
    {
     "name": "stdout",
     "output_type": "stream",
     "text": [
      "File already exist.\n"
     ]
    }
   ],
   "source": [
    "filename = (\"coco member.xlsx\").replace(\" \", \"_\")\n",
    "output_path = Path(\"output\", folder_path.stem)\n",
    "\n",
    "if not os.path.exists(full_filepath := output_path / filename):\n",
    "    try:\n",
    "        os.mkdir(output_path)\n",
    "    except FileExistsError:\n",
    "        pass\n",
    "    df_clean.to_excel(full_filepath, engine=\"xlsxwriter\", index=False)\n",
    "    print(\"File saved.\")\n",
    "else:\n",
    "    print(\"File already exist.\")"
   ]
  }
 ],
 "metadata": {
  "kernelspec": {
   "display_name": "data-science",
   "language": "python",
   "name": "python3"
  },
  "language_info": {
   "codemirror_mode": {
    "name": "ipython",
    "version": 3
   },
   "file_extension": ".py",
   "mimetype": "text/x-python",
   "name": "python",
   "nbconvert_exporter": "python",
   "pygments_lexer": "ipython3",
   "version": "3.11.5"
  }
 },
 "nbformat": 4,
 "nbformat_minor": 2
}
