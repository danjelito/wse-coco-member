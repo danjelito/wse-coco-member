{
 "cells": [
  {
   "cell_type": "code",
   "execution_count": 32,
   "metadata": {},
   "outputs": [],
   "source": [
    "import importlib\n",
    "import os\n",
    "from pathlib import Path\n",
    "\n",
    "import numpy as np\n",
    "import pandas as pd\n",
    "\n",
    "import config\n",
    "import module\n",
    "\n",
    "try:\n",
    "    importlib.reload(config)  # reload module\n",
    "except NameError:\n",
    "    pass\n",
    "try:\n",
    "    importlib.reload(module)  # reload module\n",
    "except NameError:\n",
    "    pass"
   ]
  },
  {
   "cell_type": "code",
   "execution_count": 33,
   "metadata": {},
   "outputs": [
    {
     "name": "stdout",
     "output_type": "stream",
     "text": [
      "WARNING *** file size (2540131) not 512 + multiple of sector size (512)\n",
      "WARNING *** file size (1303139) not 512 + multiple of sector size (512)\n",
      "WARNING *** file size (1614435) not 512 + multiple of sector size (512)\n",
      "WARNING *** file size (2835043) not 512 + multiple of sector size (512)\n"
     ]
    }
   ],
   "source": [
    "# load df\n",
    "folder_path = Path(\"input\", config.month)\n",
    "\n",
    "excel_files = [f for f in os.listdir(folder_path) if f.endswith('.xls')]\n",
    "\n",
    "dfs = []\n",
    "\n",
    "for file in excel_files:\n",
    "    file_path = os.path.join(folder_path, file)\n",
    "    df = pd.read_excel(file_path, skiprows=6)\n",
    "    dfs.append(df)\n",
    "\n",
    "df_ori = pd.concat(dfs, ignore_index=True)"
   ]
  },
  {
   "cell_type": "markdown",
   "metadata": {},
   "source": [
    "# Clean DF"
   ]
  },
  {
   "cell_type": "code",
   "execution_count": 34,
   "metadata": {},
   "outputs": [
    {
     "data": {
      "text/html": [
       "<div>\n",
       "<style scoped>\n",
       "    .dataframe tbody tr th:only-of-type {\n",
       "        vertical-align: middle;\n",
       "    }\n",
       "\n",
       "    .dataframe tbody tr th {\n",
       "        vertical-align: top;\n",
       "    }\n",
       "\n",
       "    .dataframe thead th {\n",
       "        text-align: right;\n",
       "    }\n",
       "</style>\n",
       "<table border=\"1\" class=\"dataframe\">\n",
       "  <thead>\n",
       "    <tr style=\"text-align: right;\">\n",
       "      <th></th>\n",
       "      <th>student_code</th>\n",
       "      <th>date_of_birth</th>\n",
       "      <th>mobile</th>\n",
       "      <th>email</th>\n",
       "      <th>service_type</th>\n",
       "      <th>consultant</th>\n",
       "      <th>start_date</th>\n",
       "      <th>end_date</th>\n",
       "      <th>start_level</th>\n",
       "      <th>current_level</th>\n",
       "      <th>contract_status</th>\n",
       "      <th>student_membership</th>\n",
       "    </tr>\n",
       "  </thead>\n",
       "  <tbody>\n",
       "    <tr>\n",
       "      <th>0</th>\n",
       "      <td>NATALIA CHRISTINE - 8816</td>\n",
       "      <td>1982-01-19 07:00:00</td>\n",
       "      <td>62083156410965</td>\n",
       "      <td>christinenata@gmail.com</td>\n",
       "      <td>Standard</td>\n",
       "      <td>WSE CAD</td>\n",
       "      <td>2022-12-20</td>\n",
       "      <td>2023-01-19 23:59:59</td>\n",
       "      <td>8.0</td>\n",
       "      <td>8.0</td>\n",
       "      <td>Promo-Invalid</td>\n",
       "      <td>Deluxe</td>\n",
       "    </tr>\n",
       "    <tr>\n",
       "      <th>2</th>\n",
       "      <td>(CPT PT BAYAN RESOURCES TBK) RAMCES - 9442</td>\n",
       "      <td>1982-04-28 07:00:00</td>\n",
       "      <td>6281385387510</td>\n",
       "      <td>ramces@bayan.com.sg</td>\n",
       "      <td>Standard</td>\n",
       "      <td>AIDIL MUNAWAR</td>\n",
       "      <td>2023-04-05</td>\n",
       "      <td>2023-05-16 23:59:59</td>\n",
       "      <td>15.0</td>\n",
       "      <td>15.0</td>\n",
       "      <td>Promo-Invalid</td>\n",
       "      <td>Deluxe</td>\n",
       "    </tr>\n",
       "    <tr>\n",
       "      <th>3</th>\n",
       "      <td>FAUZAN (CPT PT. BAYAN RESOURCES TBK) AHMAD - 9435</td>\n",
       "      <td>1994-08-27 07:00:00</td>\n",
       "      <td>6281315767413</td>\n",
       "      <td>ahmad.fauzan@bayan.com.sg</td>\n",
       "      <td>Standard</td>\n",
       "      <td>Putri Handayani Kun Andika</td>\n",
       "      <td>2023-05-23</td>\n",
       "      <td>2023-07-03 23:59:59</td>\n",
       "      <td>15.0</td>\n",
       "      <td>15.0</td>\n",
       "      <td>Promo-Invalid</td>\n",
       "      <td>Deluxe</td>\n",
       "    </tr>\n",
       "  </tbody>\n",
       "</table>\n",
       "</div>"
      ],
      "text/plain": [
       "                                        student_code       date_of_birth  \\\n",
       "0                           NATALIA CHRISTINE - 8816 1982-01-19 07:00:00   \n",
       "2         (CPT PT BAYAN RESOURCES TBK) RAMCES - 9442 1982-04-28 07:00:00   \n",
       "3  FAUZAN (CPT PT. BAYAN RESOURCES TBK) AHMAD - 9435 1994-08-27 07:00:00   \n",
       "\n",
       "           mobile                      email service_type  \\\n",
       "0  62083156410965    christinenata@gmail.com     Standard   \n",
       "2   6281385387510        ramces@bayan.com.sg     Standard   \n",
       "3   6281315767413  ahmad.fauzan@bayan.com.sg     Standard   \n",
       "\n",
       "                   consultant start_date            end_date  start_level  \\\n",
       "0                     WSE CAD 2022-12-20 2023-01-19 23:59:59          8.0   \n",
       "2               AIDIL MUNAWAR 2023-04-05 2023-05-16 23:59:59         15.0   \n",
       "3  Putri Handayani Kun Andika 2023-05-23 2023-07-03 23:59:59         15.0   \n",
       "\n",
       "   current_level contract_status student_membership  \n",
       "0            8.0   Promo-Invalid             Deluxe  \n",
       "2           15.0   Promo-Invalid             Deluxe  \n",
       "3           15.0   Promo-Invalid             Deluxe  "
      ]
     },
     "execution_count": 34,
     "metadata": {},
     "output_type": "execute_result"
    }
   ],
   "source": [
    "df_clean = (df_ori\n",
    "    .dropna(how=\"all\", axis=\"columns\")\n",
    "    .dropna(how=\"all\", axis=\"rows\")\n",
    "    .rename(columns=lambda c: c.lower().replace(\" \", \"_\"))  # replace space with _\n",
    "    .assign(\n",
    "        student_code=lambda df_: (\n",
    "            df_[\"last_name\"].str.upper()\n",
    "            + \" \"\n",
    "            + df_[\"first_name\"].str.upper()\n",
    "            + \" - \"\n",
    "            + df_[\"student_code\"].astype(\"str\")\n",
    "        ).str.strip(),\n",
    "        student_membership=lambda df_: module.create_student_membership(df_),\n",
    "        start_level=lambda df_: df_[\"start_level\"].astype(float),\n",
    "        current_level=lambda df_: df_[\"current_level\"].astype(float),\n",
    "        date_of_birth=lambda df_: pd.to_datetime(df_[\"date_of_birth\"]),\n",
    "        start_date=lambda df_: pd.to_datetime(df_[\"start_date\"]),\n",
    "        end_date=lambda df_: pd.to_datetime(df_[\"end_date\"]),\n",
    "        email=lambda df_: df_[\"email\"].str.lower().str.strip(),\n",
    "        mobile=lambda df_: (\n",
    "            df_[\"mobile\"]\n",
    "            .astype(str)\n",
    "            .str.replace(\"-\", \"\", regex=False)\n",
    "            .str.replace(\"+\", \"\", regex=False)\n",
    "            .str.strip()\n",
    "        ),\n",
    "    )\n",
    "    # ! drop ST\n",
    "    .loc[\n",
    "        lambda df_: ~(\n",
    "            df_[\"student_code\"].str.contains(\"STREET TALK|STREETTALK\", na=False)\n",
    "        )\n",
    "    ]\n",
    "    # ! drop duplicated member based on student code and start date\n",
    "    .drop_duplicates(subset=[\"student_code\", \"start_date\"], keep=\"first\")\n",
    "    # ! drop unnecessary cols\n",
    "    .drop(\n",
    "        columns=[\n",
    "            \"gender\",\n",
    "            \"home\",\n",
    "            \"work\",\n",
    "            \"end_level\",\n",
    "            \"on_track\",\n",
    "            \"course_status\",\n",
    "            \"personal_tutor\",\n",
    "            \"first_name\",\n",
    "            \"last_name\",\n",
    "            \"center_name\",\n",
    "        ]\n",
    "    )\n",
    ")\n",
    "df_clean.head(3)"
   ]
  },
  {
   "cell_type": "markdown",
   "metadata": {},
   "source": [
    "# Assertion"
   ]
  },
  {
   "cell_type": "code",
   "execution_count": 35,
   "metadata": {},
   "outputs": [],
   "source": [
    "assert sorted(df_clean[\"student_membership\"].unique()) == [\"Deluxe\", \"GO\", \"VIP\"]"
   ]
  },
  {
   "cell_type": "markdown",
   "metadata": {},
   "source": [
    "# Save DF"
   ]
  },
  {
   "cell_type": "code",
   "execution_count": 36,
   "metadata": {},
   "outputs": [
    {
     "name": "stdout",
     "output_type": "stream",
     "text": [
      "File saved.\n"
     ]
    }
   ],
   "source": [
    "filename = (\"coco member.xlsx\").replace(\" \", \"_\")\n",
    "output_path = Path(\"output\", folder_path.stem)\n",
    "\n",
    "if not os.path.exists(full_filepath := output_path / filename):\n",
    "    os.mkdir(output_path)\n",
    "    df_clean.to_excel(full_filepath, engine=\"xlsxwriter\", index=False)\n",
    "    print(\"File saved.\")\n",
    "else:\n",
    "    print(\"File already exist.\")"
   ]
  }
 ],
 "metadata": {
  "kernelspec": {
   "display_name": "data-science",
   "language": "python",
   "name": "python3"
  },
  "language_info": {
   "codemirror_mode": {
    "name": "ipython",
    "version": 3
   },
   "file_extension": ".py",
   "mimetype": "text/x-python",
   "name": "python",
   "nbconvert_exporter": "python",
   "pygments_lexer": "ipython3",
   "version": "3.11.5"
  }
 },
 "nbformat": 4,
 "nbformat_minor": 2
}
